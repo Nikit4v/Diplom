{
 "cells": [
  {
   "cell_type": "code",
   "execution_count": 1,
   "metadata": {},
   "outputs": [],
   "source": [
    "array = [0,1,2,3,4,5,6,7,8,9,0,1,2,56,3,54,5,6,8,3,5]"
   ]
  },
  {
   "cell_type": "code",
   "execution_count": 2,
   "metadata": {},
   "outputs": [
    {
     "name": "stdout",
     "output_type": "stream",
     "text": [
      "[0, 1, 2, 3, 4, 5, 6, 7, 8, 9, 0, 1, 2, 56, 3, 54, 5, 6, 8, 3, 5]\n"
     ]
    }
   ],
   "source": [
    "print(array)"
   ]
  },
  {
   "cell_type": "code",
   "execution_count": 3,
   "metadata": {},
   "outputs": [],
   "source": [
    "arr = []\n",
    "cache = []\n",
    "for i in array:\n",
    "    cache.append(i)\n",
    "    if len(cache) % 3 == 0:\n",
    "        arr.append(cache)"
   ]
  },
  {
   "cell_type": "code",
   "execution_count": 4,
   "metadata": {},
   "outputs": [
    {
     "data": {
      "text/plain": [
       "[[0, 1, 2, 3, 4, 5, 6, 7, 8, 9, 0, 1, 2, 56, 3, 54, 5, 6, 8, 3, 5],\n",
       " [0, 1, 2, 3, 4, 5, 6, 7, 8, 9, 0, 1, 2, 56, 3, 54, 5, 6, 8, 3, 5],\n",
       " [0, 1, 2, 3, 4, 5, 6, 7, 8, 9, 0, 1, 2, 56, 3, 54, 5, 6, 8, 3, 5],\n",
       " [0, 1, 2, 3, 4, 5, 6, 7, 8, 9, 0, 1, 2, 56, 3, 54, 5, 6, 8, 3, 5],\n",
       " [0, 1, 2, 3, 4, 5, 6, 7, 8, 9, 0, 1, 2, 56, 3, 54, 5, 6, 8, 3, 5],\n",
       " [0, 1, 2, 3, 4, 5, 6, 7, 8, 9, 0, 1, 2, 56, 3, 54, 5, 6, 8, 3, 5],\n",
       " [0, 1, 2, 3, 4, 5, 6, 7, 8, 9, 0, 1, 2, 56, 3, 54, 5, 6, 8, 3, 5]]"
      ]
     },
     "execution_count": 4,
     "metadata": {},
     "output_type": "execute_result"
    }
   ],
   "source": [
    "arr"
   ]
  },
  {
   "cell_type": "code",
   "execution_count": 5,
   "metadata": {},
   "outputs": [],
   "source": [
    "arr = []\n",
    "cache = []\n",
    "for i in array:\n",
    "    cache.append(i)\n",
    "    if len(cache) % 3 == 0:\n",
    "        arr.append(cache)\n",
    "        cache = []"
   ]
  },
  {
   "cell_type": "code",
   "execution_count": 6,
   "metadata": {},
   "outputs": [
    {
     "data": {
      "text/plain": [
       "[[0, 1, 2], [3, 4, 5], [6, 7, 8], [9, 0, 1], [2, 56, 3], [54, 5, 6], [8, 3, 5]]"
      ]
     },
     "execution_count": 6,
     "metadata": {},
     "output_type": "execute_result"
    }
   ],
   "source": [
    "arr"
   ]
  },
  {
   "cell_type": "code",
   "execution_count": 7,
   "metadata": {},
   "outputs": [],
   "source": [
    "arr = []\n",
    "cache = []\n",
    "for i in array:\n",
    "    cache.append(i)\n",
    "    true = True\n",
    "    if len(cache) % 3 == 0:\n",
    "        arr.append(cache)\n",
    "        cache = []\n",
    "        true = False\n",
    "if true:\n",
    "    arr.append(cache)"
   ]
  },
  {
   "cell_type": "code",
   "execution_count": 8,
   "metadata": {},
   "outputs": [],
   "source": [
    "array.append(10)"
   ]
  },
  {
   "cell_type": "code",
   "execution_count": 9,
   "metadata": {},
   "outputs": [
    {
     "data": {
      "text/plain": [
       "[0, 1, 2, 3, 4, 5, 6, 7, 8, 9, 0, 1, 2, 56, 3, 54, 5, 6, 8, 3, 5, 10]"
      ]
     },
     "execution_count": 9,
     "metadata": {},
     "output_type": "execute_result"
    }
   ],
   "source": [
    "array"
   ]
  },
  {
   "cell_type": "code",
   "execution_count": 10,
   "metadata": {},
   "outputs": [],
   "source": [
    "arr = []\n",
    "cache = []\n",
    "for i in array:\n",
    "    cache.append(i)\n",
    "    if len(cache) % 3 == 0:\n",
    "        arr.append(cache)\n",
    "        cache = []"
   ]
  },
  {
   "cell_type": "code",
   "execution_count": 13,
   "metadata": {},
   "outputs": [],
   "source": [
    "arr = []\n",
    "cache = []\n",
    "for i in array:\n",
    "    cache.append(i)\n",
    "    true = True\n",
    "    if len(cache) % 3 == 0:\n",
    "        arr.append(cache)\n",
    "        cache = []\n",
    "        true = False\n",
    "if true:\n",
    "    arr.append(cache)"
   ]
  },
  {
   "cell_type": "code",
   "execution_count": 15,
   "metadata": {},
   "outputs": [
    {
     "data": {
      "text/plain": [
       "[[0, 1, 2],\n",
       " [3, 4, 5],\n",
       " [6, 7, 8],\n",
       " [9, 0, 1],\n",
       " [2, 56, 3],\n",
       " [54, 5, 6],\n",
       " [8, 3, 5],\n",
       " [10]]"
      ]
     },
     "execution_count": 15,
     "metadata": {},
     "output_type": "execute_result"
    }
   ],
   "source": [
    "arr"
   ]
  },
  {
   "cell_type": "code",
   "execution_count": 16,
   "metadata": {},
   "outputs": [],
   "source": [
    "array = [{\"k\":\"v\"},{\"k\":\"v\"},{\"k\":\"v\"},{\"k\":\"v\"},{\"k\":\"v\"},{\"k\":\"v\"},{\"k\":\"v\"},{\"k\":\"v\"},{\"k\":\"v\"},{\"k\":\"v\"},{\"k\":\"v\"}]"
   ]
  },
  {
   "cell_type": "code",
   "execution_count": 17,
   "metadata": {},
   "outputs": [],
   "source": [
    "arr = []\n",
    "cache = []\n",
    "for i in array:\n",
    "    cache.append(i)\n",
    "    true = True\n",
    "    if len(cache) % 3 == 0:\n",
    "        arr.append(cache)\n",
    "        cache = []\n",
    "        true = False\n",
    "if true:\n",
    "    arr.append(cache)"
   ]
  },
  {
   "cell_type": "code",
   "execution_count": 18,
   "metadata": {},
   "outputs": [
    {
     "data": {
      "text/plain": [
       "[[{'k': 'v'}, {'k': 'v'}, {'k': 'v'}],\n",
       " [{'k': 'v'}, {'k': 'v'}, {'k': 'v'}],\n",
       " [{'k': 'v'}, {'k': 'v'}, {'k': 'v'}],\n",
       " [{'k': 'v'}, {'k': 'v'}]]"
      ]
     },
     "execution_count": 18,
     "metadata": {},
     "output_type": "execute_result"
    }
   ],
   "source": [
    "arr\n"
   ]
  },
  {
   "cell_type": "code",
   "execution_count": null,
   "metadata": {},
   "outputs": [],
   "source": []
  }
 ],
 "metadata": {
  "kernelspec": {
   "display_name": "Python 3",
   "language": "python",
   "name": "python3"
  },
  "language_info": {
   "codemirror_mode": {
    "name": "ipython",
    "version": 3
   },
   "file_extension": ".py",
   "mimetype": "text/x-python",
   "name": "python",
   "nbconvert_exporter": "python",
   "pygments_lexer": "ipython3",
   "version": "3.7.6"
  }
 },
 "nbformat": 4,
 "nbformat_minor": 4
}
